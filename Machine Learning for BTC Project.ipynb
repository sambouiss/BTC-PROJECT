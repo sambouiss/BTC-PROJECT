{
 "cells": [
  {
   "cell_type": "code",
   "execution_count": 49,
   "metadata": {},
   "outputs": [],
   "source": [
    "import pandas as pd\n",
    "import sklearn\n",
    "import matplotlib as plt\n",
    "from sklearn.cross_validation import train_test_split\n",
    "from sklearn import linear_model, ensemble\n",
    "import numpy as np"
   ]
  },
  {
   "cell_type": "code",
   "execution_count": 50,
   "metadata": {
    "collapsed": true
   },
   "outputs": [],
   "source": [
    "df1 = pd.DataFrame.from_csv('BTC PROJECT.csv',index_col='Date')"
   ]
  },
  {
   "cell_type": "code",
   "execution_count": 51,
   "metadata": {},
   "outputs": [],
   "source": [
    "features = df1.drop(['High Fut','Low Fut', 'Close Fut','SMAVG (5) on Close','SMAVG (10) on Close','SMAVG (15) on Close'],axis = 1)"
   ]
  },
  {
   "cell_type": "code",
   "execution_count": 52,
   "metadata": {},
   "outputs": [],
   "source": [
    "features['Time Till Completion'] = 1- features['Time Till Completion'] "
   ]
  },
  {
   "cell_type": "code",
   "execution_count": null,
   "metadata": {},
   "outputs": [],
   "source": []
  },
  {
   "cell_type": "code",
   "execution_count": 89,
   "metadata": {},
   "outputs": [
    {
     "data": {
      "text/html": [
       "<div>\n",
       "<style>\n",
       "    .dataframe thead tr:only-child th {\n",
       "        text-align: right;\n",
       "    }\n",
       "\n",
       "    .dataframe thead th {\n",
       "        text-align: left;\n",
       "    }\n",
       "\n",
       "    .dataframe tbody tr th {\n",
       "        vertical-align: top;\n",
       "    }\n",
       "</style>\n",
       "<table border=\"1\" class=\"dataframe\">\n",
       "  <thead>\n",
       "    <tr style=\"text-align: right;\">\n",
       "      <th></th>\n",
       "      <th>Open Fut</th>\n",
       "      <th>Volume</th>\n",
       "      <th>SMAVG (5)</th>\n",
       "      <th>Interest Rate on 10 Year T-Bill</th>\n",
       "      <th>Time Till Completion</th>\n",
       "      <th>Price BTC</th>\n",
       "      <th>Price w/ fees BTC</th>\n",
       "      <th>Volume BTC</th>\n",
       "      <th>1 Month Interest Rate</th>\n",
       "      <th>Theoretical Futures Price</th>\n",
       "      <th>1 Tick Vwop</th>\n",
       "      <th>1 Tick Theoretical Futures price</th>\n",
       "      <th>3 Tick VWOP</th>\n",
       "      <th>3 Tick Theoretical Futures Price</th>\n",
       "      <th>Exponetial Smoothing w. Trend</th>\n",
       "      <th>EXP Theoretical Future price</th>\n",
       "      <th>Klaman</th>\n",
       "      <th>Kalman Theoretical Future Price</th>\n",
       "    </tr>\n",
       "    <tr>\n",
       "      <th>Date</th>\n",
       "      <th></th>\n",
       "      <th></th>\n",
       "      <th></th>\n",
       "      <th></th>\n",
       "      <th></th>\n",
       "      <th></th>\n",
       "      <th></th>\n",
       "      <th></th>\n",
       "      <th></th>\n",
       "      <th></th>\n",
       "      <th></th>\n",
       "      <th></th>\n",
       "      <th></th>\n",
       "      <th></th>\n",
       "      <th></th>\n",
       "      <th></th>\n",
       "      <th></th>\n",
       "      <th></th>\n",
       "    </tr>\n",
       "  </thead>\n",
       "  <tbody>\n",
       "    <tr>\n",
       "      <th>2018-01-18 16:40:00</th>\n",
       "      <td>11500.0</td>\n",
       "      <td>1.0</td>\n",
       "      <td>13.0</td>\n",
       "      <td>2.6256</td>\n",
       "      <td>0.0</td>\n",
       "      <td>11745.43345</td>\n",
       "      <td>11774.79704</td>\n",
       "      <td>0.199638</td>\n",
       "      <td>0.013128</td>\n",
       "      <td>11753.87527</td>\n",
       "      <td>11764.53657</td>\n",
       "      <td>11764.53657</td>\n",
       "      <td>11809.95957</td>\n",
       "      <td>11809.95957</td>\n",
       "      <td>11726.69324</td>\n",
       "      <td>11726.69324</td>\n",
       "      <td>11759.03768</td>\n",
       "      <td>11759.03768</td>\n",
       "    </tr>\n",
       "    <tr>\n",
       "      <th>2018-01-18 16:30:00</th>\n",
       "      <td>11625.0</td>\n",
       "      <td>10.0</td>\n",
       "      <td>16.0</td>\n",
       "      <td>2.6256</td>\n",
       "      <td>0.0</td>\n",
       "      <td>11728.47357</td>\n",
       "      <td>11757.79475</td>\n",
       "      <td>0.303832</td>\n",
       "      <td>0.013128</td>\n",
       "      <td>11736.90320</td>\n",
       "      <td>11822.72670</td>\n",
       "      <td>11822.72670</td>\n",
       "      <td>11866.82960</td>\n",
       "      <td>11866.82960</td>\n",
       "      <td>11676.79205</td>\n",
       "      <td>11676.79205</td>\n",
       "      <td>11786.17464</td>\n",
       "      <td>11786.17464</td>\n",
       "    </tr>\n",
       "    <tr>\n",
       "      <th>2018-01-18 16:10:00</th>\n",
       "      <td>11810.0</td>\n",
       "      <td>5.0</td>\n",
       "      <td>15.0</td>\n",
       "      <td>2.6219</td>\n",
       "      <td>0.0</td>\n",
       "      <td>11873.24004</td>\n",
       "      <td>11902.92314</td>\n",
       "      <td>0.246001</td>\n",
       "      <td>0.013109</td>\n",
       "      <td>11881.85153</td>\n",
       "      <td>11928.49449</td>\n",
       "      <td>11928.49449</td>\n",
       "      <td>11986.33806</td>\n",
       "      <td>11986.33806</td>\n",
       "      <td>11804.32778</td>\n",
       "      <td>11804.32778</td>\n",
       "      <td>11901.27349</td>\n",
       "      <td>11901.27349</td>\n",
       "    </tr>\n",
       "    <tr>\n",
       "      <th>2018-01-18 16:00:00</th>\n",
       "      <td>11840.0</td>\n",
       "      <td>7.0</td>\n",
       "      <td>18.0</td>\n",
       "      <td>2.6200</td>\n",
       "      <td>0.0</td>\n",
       "      <td>11920.29379</td>\n",
       "      <td>11950.09453</td>\n",
       "      <td>0.291229</td>\n",
       "      <td>0.013100</td>\n",
       "      <td>11928.97946</td>\n",
       "      <td>12018.33363</td>\n",
       "      <td>12018.33363</td>\n",
       "      <td>12030.03351</td>\n",
       "      <td>12030.03351</td>\n",
       "      <td>11876.19238</td>\n",
       "      <td>11876.19238</td>\n",
       "      <td>11957.19303</td>\n",
       "      <td>11957.19303</td>\n",
       "    </tr>\n",
       "    <tr>\n",
       "      <th>2018-01-18 15:50:00</th>\n",
       "      <td>12005.0</td>\n",
       "      <td>40.0</td>\n",
       "      <td>19.0</td>\n",
       "      <td>2.6163</td>\n",
       "      <td>0.0</td>\n",
       "      <td>12044.98344</td>\n",
       "      <td>12075.09590</td>\n",
       "      <td>0.350113</td>\n",
       "      <td>0.013081</td>\n",
       "      <td>12053.83869</td>\n",
       "      <td>12066.56603</td>\n",
       "      <td>12066.56603</td>\n",
       "      <td>12043.08607</td>\n",
       "      <td>12043.08607</td>\n",
       "      <td>12090.07746</td>\n",
       "      <td>12090.07746</td>\n",
       "      <td>12030.79754</td>\n",
       "      <td>12030.79754</td>\n",
       "    </tr>\n",
       "  </tbody>\n",
       "</table>\n",
       "</div>"
      ],
      "text/plain": [
       "                     Open Fut  Volume  SMAVG (5)  \\\n",
       "Date                                               \n",
       "2018-01-18 16:40:00   11500.0     1.0       13.0   \n",
       "2018-01-18 16:30:00   11625.0    10.0       16.0   \n",
       "2018-01-18 16:10:00   11810.0     5.0       15.0   \n",
       "2018-01-18 16:00:00   11840.0     7.0       18.0   \n",
       "2018-01-18 15:50:00   12005.0    40.0       19.0   \n",
       "\n",
       "                     Interest Rate on 10 Year T-Bill  Time Till Completion  \\\n",
       "Date                                                                         \n",
       "2018-01-18 16:40:00                           2.6256                   0.0   \n",
       "2018-01-18 16:30:00                           2.6256                   0.0   \n",
       "2018-01-18 16:10:00                           2.6219                   0.0   \n",
       "2018-01-18 16:00:00                           2.6200                   0.0   \n",
       "2018-01-18 15:50:00                           2.6163                   0.0   \n",
       "\n",
       "                       Price BTC  Price w/ fees BTC  Volume BTC  \\\n",
       "Date                                                              \n",
       "2018-01-18 16:40:00  11745.43345        11774.79704    0.199638   \n",
       "2018-01-18 16:30:00  11728.47357        11757.79475    0.303832   \n",
       "2018-01-18 16:10:00  11873.24004        11902.92314    0.246001   \n",
       "2018-01-18 16:00:00  11920.29379        11950.09453    0.291229   \n",
       "2018-01-18 15:50:00  12044.98344        12075.09590    0.350113   \n",
       "\n",
       "                     1 Month Interest Rate  Theoretical Futures Price  \\\n",
       "Date                                                                    \n",
       "2018-01-18 16:40:00               0.013128                11753.87527   \n",
       "2018-01-18 16:30:00               0.013128                11736.90320   \n",
       "2018-01-18 16:10:00               0.013109                11881.85153   \n",
       "2018-01-18 16:00:00               0.013100                11928.97946   \n",
       "2018-01-18 15:50:00               0.013081                12053.83869   \n",
       "\n",
       "                     1 Tick Vwop  1 Tick Theoretical Futures price  \\\n",
       "Date                                                                 \n",
       "2018-01-18 16:40:00  11764.53657                       11764.53657   \n",
       "2018-01-18 16:30:00  11822.72670                       11822.72670   \n",
       "2018-01-18 16:10:00  11928.49449                       11928.49449   \n",
       "2018-01-18 16:00:00  12018.33363                       12018.33363   \n",
       "2018-01-18 15:50:00  12066.56603                       12066.56603   \n",
       "\n",
       "                     3 Tick VWOP  3 Tick Theoretical Futures Price  \\\n",
       "Date                                                                 \n",
       "2018-01-18 16:40:00  11809.95957                       11809.95957   \n",
       "2018-01-18 16:30:00  11866.82960                       11866.82960   \n",
       "2018-01-18 16:10:00  11986.33806                       11986.33806   \n",
       "2018-01-18 16:00:00  12030.03351                       12030.03351   \n",
       "2018-01-18 15:50:00  12043.08607                       12043.08607   \n",
       "\n",
       "                     Exponetial Smoothing w. Trend  \\\n",
       "Date                                                 \n",
       "2018-01-18 16:40:00                    11726.69324   \n",
       "2018-01-18 16:30:00                    11676.79205   \n",
       "2018-01-18 16:10:00                    11804.32778   \n",
       "2018-01-18 16:00:00                    11876.19238   \n",
       "2018-01-18 15:50:00                    12090.07746   \n",
       "\n",
       "                     EXP Theoretical Future price       Klaman  \\\n",
       "Date                                                             \n",
       "2018-01-18 16:40:00                   11726.69324  11759.03768   \n",
       "2018-01-18 16:30:00                   11676.79205  11786.17464   \n",
       "2018-01-18 16:10:00                   11804.32778  11901.27349   \n",
       "2018-01-18 16:00:00                   11876.19238  11957.19303   \n",
       "2018-01-18 15:50:00                   12090.07746  12030.79754   \n",
       "\n",
       "                     Kalman Theoretical Future Price  \n",
       "Date                                                  \n",
       "2018-01-18 16:40:00                      11759.03768  \n",
       "2018-01-18 16:30:00                      11786.17464  \n",
       "2018-01-18 16:10:00                      11901.27349  \n",
       "2018-01-18 16:00:00                      11957.19303  \n",
       "2018-01-18 15:50:00                      12030.79754  "
      ]
     },
     "execution_count": 89,
     "metadata": {},
     "output_type": "execute_result"
    }
   ],
   "source": [
    "features.head()"
   ]
  },
  {
   "cell_type": "code",
   "execution_count": null,
   "metadata": {},
   "outputs": [],
   "source": []
  },
  {
   "cell_type": "code",
   "execution_count": null,
   "metadata": {},
   "outputs": [],
   "source": []
  },
  {
   "cell_type": "code",
   "execution_count": 80,
   "metadata": {},
   "outputs": [],
   "source": [
    "features=features.fillna(0)\n",
    "x_train, x_test, y_train, y_test = train_test_split(features, df1['Close Fut'].astype(float), random_state= 67, test_size=.2)"
   ]
  },
  {
   "cell_type": "code",
   "execution_count": 91,
   "metadata": {},
   "outputs": [
    {
     "name": "stdout",
     "output_type": "stream",
     "text": [
      "(1, 1, 0.61325936008496518)\n",
      "(1, 2, 0.87601208745400139)\n",
      "(1, 3, 0.96713518077677496)\n"
     ]
    },
    {
     "name": "stderr",
     "output_type": "stream",
     "text": [
      "/Users/admin/anaconda2/lib/python2.7/site-packages/sklearn/linear_model/coordinate_descent.py:491: ConvergenceWarning: Objective did not converge. You might want to increase the number of iterations. Fitting data with very small alpha may cause precision problems.\n",
      "  ConvergenceWarning)\n"
     ]
    },
    {
     "name": "stdout",
     "output_type": "stream",
     "text": [
      "(1, 0.99594313097354081)\n",
      "(2, 1, 0.61821764961736392)\n",
      "(2, 2, 0.88698906321131354)\n",
      "(2, 3, 0.97394733815325552)\n",
      "(2, 0.99594083416179824)\n",
      "(3, 1, 0.62615238209018043)\n",
      "(3, 2, 0.88689373261038773)\n",
      "(3, 3, 0.97497074142933249)\n",
      "(3, 0.99593845512757195)\n",
      "(4, 1, 0.63167226178069547)\n",
      "(4, 2, 0.88970018337557255)\n",
      "(4, 3, 0.97592801853191868)\n",
      "(4, 0.99593599463721461)\n"
     ]
    }
   ],
   "source": [
    "for i in range(1,5):\n",
    "    for j in range(1,4):\n",
    "        model = ensemble.RandomForestRegressor(n_estimators=i, max_depth=j, random_state=12)\n",
    "        model.fit(x_train,y_train)\n",
    "        print(i, j, model.score(x_test,y_test))\n",
    "    model = linear_model.Lasso(alpha=i)\n",
    "    model.fit(x_train,y_train)\n",
    "    print(i, model.score(x_test,y_test))"
   ]
  },
  {
   "cell_type": "code",
   "execution_count": 93,
   "metadata": {},
   "outputs": [
    {
     "data": {
      "text/plain": [
       "Lasso(alpha=1, copy_X=True, fit_intercept=True, max_iter=1000,\n",
       "   normalize=False, positive=False, precompute=False, random_state=None,\n",
       "   selection='cyclic', tol=0.0001, warm_start=False)"
      ]
     },
     "execution_count": 93,
     "metadata": {},
     "output_type": "execute_result"
    }
   ],
   "source": [
    "#using alpha = 1\n",
    "model = linear_model.Lasso(alpha=1)\n",
    "model.fit(x_train,y_train)"
   ]
  },
  {
   "cell_type": "code",
   "execution_count": 94,
   "metadata": {},
   "outputs": [
    {
     "data": {
      "text/plain": [
       "69.48263174657292"
      ]
     },
     "execution_count": 94,
     "metadata": {},
     "output_type": "execute_result"
    }
   ],
   "source": [
    "abs(y_test-model.predict(x_test)).mean()"
   ]
  },
  {
   "cell_type": "code",
   "execution_count": 95,
   "metadata": {},
   "outputs": [
    {
     "data": {
      "text/plain": [
       "Date\n",
       "2018-01-04 16:00:00     27.612924\n",
       "2018-01-10 16:40:00      9.347570\n",
       "2017-12-22 00:10:00   -149.517821\n",
       "2017-12-26 06:20:00      3.965574\n",
       "2018-01-02 14:40:00    -67.449496\n",
       "2017-12-28 19:10:00    -11.133957\n",
       "2018-01-16 12:50:00     -5.921454\n",
       "2018-01-10 09:20:00     70.728795\n",
       "2017-12-26 08:00:00     43.170600\n",
       "2017-12-20 11:20:00   -105.443394\n",
       "2017-12-22 08:40:00     47.533870\n",
       "2018-01-04 12:50:00     -8.075888\n",
       "2018-01-09 12:00:00    -74.816691\n",
       "2018-01-15 20:10:00     87.957349\n",
       "2018-01-08 13:40:00     22.625286\n",
       "2018-01-18 12:00:00    -86.044907\n",
       "2018-01-04 16:20:00     86.697341\n",
       "2018-01-04 22:10:00    -21.799967\n",
       "2018-01-16 05:20:00    240.418297\n",
       "2018-01-11 01:50:00     -1.062340\n",
       "2018-01-10 14:50:00    -69.429742\n",
       "2018-01-11 06:10:00      8.022697\n",
       "2018-01-04 06:40:00     61.749486\n",
       "2017-12-26 15:20:00    -25.020408\n",
       "2018-01-18 05:10:00     36.367962\n",
       "2017-12-22 02:20:00    520.373458\n",
       "2018-01-17 14:40:00    270.869942\n",
       "2018-01-11 07:50:00    -72.525760\n",
       "2017-12-20 18:50:00     46.065061\n",
       "2018-01-12 11:20:00      7.337569\n",
       "                          ...    \n",
       "2017-12-28 09:00:00    -62.144213\n",
       "2018-01-04 04:00:00    -10.774470\n",
       "2017-12-26 10:30:00     61.751785\n",
       "2018-01-16 06:30:00    144.316233\n",
       "2018-01-04 02:20:00     -4.731560\n",
       "2018-01-18 08:10:00     -0.250696\n",
       "2017-12-27 12:40:00    109.992766\n",
       "2018-01-11 20:30:00    200.539789\n",
       "2018-01-11 10:10:00    -35.450416\n",
       "2018-01-15 21:40:00     39.214247\n",
       "2017-12-28 00:30:00      6.214342\n",
       "2018-01-09 21:50:00      4.301239\n",
       "2018-01-04 00:20:00    -64.522178\n",
       "2018-01-05 13:40:00     78.519468\n",
       "2018-01-15 18:10:00    -35.885893\n",
       "2018-01-10 23:20:00    -90.228928\n",
       "2018-01-04 22:50:00     -3.149469\n",
       "2018-01-15 02:40:00     11.003752\n",
       "2018-01-17 22:20:00   -172.343363\n",
       "2017-12-22 12:50:00    159.688193\n",
       "2017-12-27 12:30:00     24.138708\n",
       "2018-01-09 05:30:00     43.075876\n",
       "2018-01-17 16:10:00   -104.725160\n",
       "2018-01-05 11:10:00     87.237740\n",
       "2017-12-26 09:50:00    124.791307\n",
       "2018-01-09 06:20:00      1.877621\n",
       "2018-01-04 12:30:00     38.954206\n",
       "2018-01-05 03:30:00     79.226121\n",
       "2017-12-28 10:00:00    273.128241\n",
       "2018-01-11 05:00:00    -13.226768\n",
       "Name: Close Fut, Length: 461, dtype: float64"
      ]
     },
     "execution_count": 95,
     "metadata": {},
     "output_type": "execute_result"
    }
   ],
   "source": [
    "y_test-model.predict(x_test)"
   ]
  },
  {
   "cell_type": "code",
   "execution_count": null,
   "metadata": {
    "collapsed": true
   },
   "outputs": [],
   "source": []
  }
 ],
 "metadata": {
  "kernelspec": {
   "display_name": "Python 2",
   "language": "python",
   "name": "python2"
  },
  "language_info": {
   "codemirror_mode": {
    "name": "ipython",
    "version": 2
   },
   "file_extension": ".py",
   "mimetype": "text/x-python",
   "name": "python",
   "nbconvert_exporter": "python",
   "pygments_lexer": "ipython2",
   "version": "2.7.13"
  }
 },
 "nbformat": 4,
 "nbformat_minor": 2
}
