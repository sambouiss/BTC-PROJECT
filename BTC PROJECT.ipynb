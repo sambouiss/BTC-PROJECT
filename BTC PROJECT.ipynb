{
 "cells": [
  {
   "cell_type": "code",
   "execution_count": 1,
   "metadata": {
    "collapsed": true
   },
   "outputs": [],
   "source": [
    "import pandas as pd\n",
    "import matplotlib.pyplot as plt\n",
    "%matplotlib inline\n",
    "import numpy as np"
   ]
  },
  {
   "cell_type": "code",
   "execution_count": 2,
   "metadata": {
    "collapsed": true
   },
   "outputs": [],
   "source": [
    "df1 = pd.DataFrame.from_csv(\"CME FUTURE JAN 18.csv\")\n",
    "df2 = pd.DataFrame.from_csv(\"BTC INTRADAY.csv\")\n"
   ]
  },
  {
   "cell_type": "code",
   "execution_count": 3,
   "metadata": {
    "collapsed": true
   },
   "outputs": [],
   "source": [
    "df1 = df1.rename( columns={'Open':'FUT Open', 'High':'FUT High','Low':'FUT Low', 'Close':'FUT Close'})"
   ]
  },
  {
   "cell_type": "code",
   "execution_count": 4,
   "metadata": {},
   "outputs": [
    {
     "data": {
      "text/html": [
       "<div>\n",
       "<style>\n",
       "    .dataframe thead tr:only-child th {\n",
       "        text-align: right;\n",
       "    }\n",
       "\n",
       "    .dataframe thead th {\n",
       "        text-align: left;\n",
       "    }\n",
       "\n",
       "    .dataframe tbody tr th {\n",
       "        vertical-align: top;\n",
       "    }\n",
       "</style>\n",
       "<table border=\"1\" class=\"dataframe\">\n",
       "  <thead>\n",
       "    <tr style=\"text-align: right;\">\n",
       "      <th></th>\n",
       "      <th>Open</th>\n",
       "      <th>High</th>\n",
       "      <th>Low</th>\n",
       "      <th>Close</th>\n",
       "      <th>Volume (BTC)</th>\n",
       "      <th>Volume (Currency)</th>\n",
       "      <th>Weighted Price</th>\n",
       "    </tr>\n",
       "    <tr>\n",
       "      <th>Timestamp</th>\n",
       "      <th></th>\n",
       "      <th></th>\n",
       "      <th></th>\n",
       "      <th></th>\n",
       "      <th></th>\n",
       "      <th></th>\n",
       "      <th></th>\n",
       "    </tr>\n",
       "  </thead>\n",
       "  <tbody>\n",
       "    <tr>\n",
       "      <th>2018-01-01 23:40:00</th>\n",
       "      <td>13446.51</td>\n",
       "      <td>13490.61</td>\n",
       "      <td>13380</td>\n",
       "      <td>13431</td>\n",
       "      <td>38.09</td>\n",
       "      <td>510576.46</td>\n",
       "      <td>13404.9</td>\n",
       "    </tr>\n",
       "    <tr>\n",
       "      <th>2018-01-01 23:45:00</th>\n",
       "      <td>13431.03</td>\n",
       "      <td>13468.72</td>\n",
       "      <td>13381.13</td>\n",
       "      <td>13419.38</td>\n",
       "      <td>11.27</td>\n",
       "      <td>151171.61</td>\n",
       "      <td>13413.61</td>\n",
       "    </tr>\n",
       "    <tr>\n",
       "      <th>2018-01-01 23:50:00</th>\n",
       "      <td>13419.38</td>\n",
       "      <td>13445</td>\n",
       "      <td>13380.93</td>\n",
       "      <td>13445</td>\n",
       "      <td>40.3</td>\n",
       "      <td>540876.56</td>\n",
       "      <td>13420.02</td>\n",
       "    </tr>\n",
       "    <tr>\n",
       "      <th>2018-01-01 23:55:00</th>\n",
       "      <td>13444.99</td>\n",
       "      <td>13451.86</td>\n",
       "      <td>13372.33</td>\n",
       "      <td>13443.41</td>\n",
       "      <td>39.95</td>\n",
       "      <td>535412.5</td>\n",
       "      <td>13402.3</td>\n",
       "    </tr>\n",
       "    <tr>\n",
       "      <th>2018-01-02 00:00:00</th>\n",
       "      <td>13394.2</td>\n",
       "      <td>13544.53</td>\n",
       "      <td>13394.2</td>\n",
       "      <td>13517.37</td>\n",
       "      <td>35.54</td>\n",
       "      <td>479137.21</td>\n",
       "      <td>13480.15</td>\n",
       "    </tr>\n",
       "  </tbody>\n",
       "</table>\n",
       "</div>"
      ],
      "text/plain": [
       "                         Open      High       Low     Close Volume (BTC)  \\\n",
       "Timestamp                                                                  \n",
       "2018-01-01 23:40:00  13446.51  13490.61     13380     13431        38.09   \n",
       "2018-01-01 23:45:00  13431.03  13468.72  13381.13  13419.38        11.27   \n",
       "2018-01-01 23:50:00  13419.38     13445  13380.93     13445         40.3   \n",
       "2018-01-01 23:55:00  13444.99  13451.86  13372.33  13443.41        39.95   \n",
       "2018-01-02 00:00:00   13394.2  13544.53   13394.2  13517.37        35.54   \n",
       "\n",
       "                    Volume (Currency) Weighted Price  \n",
       "Timestamp                                             \n",
       "2018-01-01 23:40:00         510576.46        13404.9  \n",
       "2018-01-01 23:45:00         151171.61       13413.61  \n",
       "2018-01-01 23:50:00         540876.56       13420.02  \n",
       "2018-01-01 23:55:00          535412.5        13402.3  \n",
       "2018-01-02 00:00:00         479137.21       13480.15  "
      ]
     },
     "execution_count": 4,
     "metadata": {},
     "output_type": "execute_result"
    }
   ],
   "source": [
    "df2.tail()"
   ]
  },
  {
   "cell_type": "code",
   "execution_count": 5,
   "metadata": {
    "collapsed": true
   },
   "outputs": [],
   "source": [
    "df3 = df1.join(df2)"
   ]
  },
  {
   "cell_type": "code",
   "execution_count": 6,
   "metadata": {
    "collapsed": true
   },
   "outputs": [],
   "source": [
    "df3 = df3.dropna()"
   ]
  },
  {
   "cell_type": "code",
   "execution_count": 107,
   "metadata": {},
   "outputs": [
    {
     "data": {
      "text/html": [
       "<div>\n",
       "<style>\n",
       "    .dataframe thead tr:only-child th {\n",
       "        text-align: right;\n",
       "    }\n",
       "\n",
       "    .dataframe thead th {\n",
       "        text-align: left;\n",
       "    }\n",
       "\n",
       "    .dataframe tbody tr th {\n",
       "        vertical-align: top;\n",
       "    }\n",
       "</style>\n",
       "<table border=\"1\" class=\"dataframe\">\n",
       "  <thead>\n",
       "    <tr style=\"text-align: right;\">\n",
       "      <th></th>\n",
       "      <th>FUT Open</th>\n",
       "      <th>FUT High</th>\n",
       "      <th>FUT Low</th>\n",
       "      <th>FUT Close</th>\n",
       "      <th>SMAVG (5) on Close</th>\n",
       "      <th>SMAVG (10) on Close</th>\n",
       "      <th>SMAVG (15) on Close</th>\n",
       "      <th>Volume</th>\n",
       "      <th>SMAVG (5)</th>\n",
       "      <th>Open</th>\n",
       "      <th>...</th>\n",
       "      <th>Volume (Currency)</th>\n",
       "      <th>Weighted Price</th>\n",
       "      <th>Risk Free Rate</th>\n",
       "      <th>Implied Risk Free Rate</th>\n",
       "      <th>Hull Implied Risk Free Rate</th>\n",
       "      <th>ADj_Close</th>\n",
       "      <th>ADJ_Implied Risk Free Rate</th>\n",
       "      <th>ADJ_Hull Implied Risk Free Rate</th>\n",
       "      <th>Filtered Close</th>\n",
       "      <th>Filtered_Hull Implied Risk Free Rate</th>\n",
       "    </tr>\n",
       "    <tr>\n",
       "      <th>Date</th>\n",
       "      <th></th>\n",
       "      <th></th>\n",
       "      <th></th>\n",
       "      <th></th>\n",
       "      <th></th>\n",
       "      <th></th>\n",
       "      <th></th>\n",
       "      <th></th>\n",
       "      <th></th>\n",
       "      <th></th>\n",
       "      <th></th>\n",
       "      <th></th>\n",
       "      <th></th>\n",
       "      <th></th>\n",
       "      <th></th>\n",
       "      <th></th>\n",
       "      <th></th>\n",
       "      <th></th>\n",
       "      <th></th>\n",
       "      <th></th>\n",
       "      <th></th>\n",
       "    </tr>\n",
       "  </thead>\n",
       "  <tbody>\n",
       "    <tr>\n",
       "      <th>2018-01-01 18:20:00</th>\n",
       "      <td>13560</td>\n",
       "      <td>13560</td>\n",
       "      <td>13560</td>\n",
       "      <td>13560</td>\n",
       "      <td>13657</td>\n",
       "      <td>14057</td>\n",
       "      <td>14210</td>\n",
       "      <td>1</td>\n",
       "      <td>2</td>\n",
       "      <td>13098.91</td>\n",
       "      <td>...</td>\n",
       "      <td>419446.07</td>\n",
       "      <td>13282.86</td>\n",
       "      <td>0.013525</td>\n",
       "      <td>-0.012719</td>\n",
       "      <td>-0.026018</td>\n",
       "      <td>13360.768625</td>\n",
       "      <td>-0.001366</td>\n",
       "      <td>0.002083</td>\n",
       "      <td>13434.473204</td>\n",
       "      <td>0.001274</td>\n",
       "    </tr>\n",
       "    <tr>\n",
       "      <th>2018-01-01 18:15:00</th>\n",
       "      <td>13580</td>\n",
       "      <td>13580</td>\n",
       "      <td>13580</td>\n",
       "      <td>13580</td>\n",
       "      <td>13839</td>\n",
       "      <td>14153</td>\n",
       "      <td>14277</td>\n",
       "      <td>2</td>\n",
       "      <td>2</td>\n",
       "      <td>13114.68</td>\n",
       "      <td>...</td>\n",
       "      <td>31531.5</td>\n",
       "      <td>13148.47</td>\n",
       "      <td>0.013525</td>\n",
       "      <td>-0.031125</td>\n",
       "      <td>-0.059229</td>\n",
       "      <td>13131.015675</td>\n",
       "      <td>-0.019984</td>\n",
       "      <td>0.004850</td>\n",
       "      <td>13427.126659</td>\n",
       "      <td>0.001571</td>\n",
       "    </tr>\n",
       "    <tr>\n",
       "      <th>2018-01-01 18:10:00</th>\n",
       "      <td>13690</td>\n",
       "      <td>13690</td>\n",
       "      <td>13570</td>\n",
       "      <td>13570</td>\n",
       "      <td>13995</td>\n",
       "      <td>14243</td>\n",
       "      <td>14344</td>\n",
       "      <td>7</td>\n",
       "      <td>2</td>\n",
       "      <td>13150.4</td>\n",
       "      <td>...</td>\n",
       "      <td>20491.05</td>\n",
       "      <td>13116.5</td>\n",
       "      <td>0.013525</td>\n",
       "      <td>-0.026178</td>\n",
       "      <td>-0.050241</td>\n",
       "      <td>13188.348650</td>\n",
       "      <td>-0.014980</td>\n",
       "      <td>0.004101</td>\n",
       "      <td>13421.473505</td>\n",
       "      <td>0.001525</td>\n",
       "    </tr>\n",
       "    <tr>\n",
       "      <th>2018-01-01 18:05:00</th>\n",
       "      <td>13620</td>\n",
       "      <td>13620</td>\n",
       "      <td>13620</td>\n",
       "      <td>13620</td>\n",
       "      <td>14161</td>\n",
       "      <td>14338</td>\n",
       "      <td>14416</td>\n",
       "      <td>1</td>\n",
       "      <td>3</td>\n",
       "      <td>13138.27</td>\n",
       "      <td>...</td>\n",
       "      <td>60444.92</td>\n",
       "      <td>13164.18</td>\n",
       "      <td>0.013525</td>\n",
       "      <td>-0.030125</td>\n",
       "      <td>-0.057409</td>\n",
       "      <td>13183.286025</td>\n",
       "      <td>-0.018973</td>\n",
       "      <td>0.004699</td>\n",
       "      <td>13415.955662</td>\n",
       "      <td>0.002126</td>\n",
       "    </tr>\n",
       "    <tr>\n",
       "      <th>2018-01-01 18:00:00</th>\n",
       "      <td>13955</td>\n",
       "      <td>13955</td>\n",
       "      <td>13955</td>\n",
       "      <td>13955</td>\n",
       "      <td>14335</td>\n",
       "      <td>14424</td>\n",
       "      <td>14484</td>\n",
       "      <td>1</td>\n",
       "      <td>3</td>\n",
       "      <td>13063.5</td>\n",
       "      <td>...</td>\n",
       "      <td>151367.39</td>\n",
       "      <td>13076.27</td>\n",
       "      <td>0.013525</td>\n",
       "      <td>-0.053435</td>\n",
       "      <td>-0.100340</td>\n",
       "      <td>13182.905075</td>\n",
       "      <td>-0.042551</td>\n",
       "      <td>0.008276</td>\n",
       "      <td>13410.670154</td>\n",
       "      <td>0.005757</td>\n",
       "    </tr>\n",
       "  </tbody>\n",
       "</table>\n",
       "<p>5 rows × 24 columns</p>\n",
       "</div>"
      ],
      "text/plain": [
       "                     FUT Open  FUT High  FUT Low  FUT Close  \\\n",
       "Date                                                          \n",
       "2018-01-01 18:20:00     13560     13560    13560      13560   \n",
       "2018-01-01 18:15:00     13580     13580    13580      13580   \n",
       "2018-01-01 18:10:00     13690     13690    13570      13570   \n",
       "2018-01-01 18:05:00     13620     13620    13620      13620   \n",
       "2018-01-01 18:00:00     13955     13955    13955      13955   \n",
       "\n",
       "                    SMAVG (5) on Close  SMAVG (10) on Close  \\\n",
       "Date                                                          \n",
       "2018-01-01 18:20:00              13657                14057   \n",
       "2018-01-01 18:15:00              13839                14153   \n",
       "2018-01-01 18:10:00              13995                14243   \n",
       "2018-01-01 18:05:00              14161                14338   \n",
       "2018-01-01 18:00:00              14335                14424   \n",
       "\n",
       "                    SMAVG (15) on Close  Volume  SMAVG (5)      Open  \\\n",
       "Date                                                                   \n",
       "2018-01-01 18:20:00               14210       1          2  13098.91   \n",
       "2018-01-01 18:15:00               14277       2          2  13114.68   \n",
       "2018-01-01 18:10:00               14344       7          2   13150.4   \n",
       "2018-01-01 18:05:00               14416       1          3  13138.27   \n",
       "2018-01-01 18:00:00               14484       1          3   13063.5   \n",
       "\n",
       "                                     ...                  Volume (Currency)  \\\n",
       "Date                                 ...                                      \n",
       "2018-01-01 18:20:00                  ...                          419446.07   \n",
       "2018-01-01 18:15:00                  ...                            31531.5   \n",
       "2018-01-01 18:10:00                  ...                           20491.05   \n",
       "2018-01-01 18:05:00                  ...                           60444.92   \n",
       "2018-01-01 18:00:00                  ...                          151367.39   \n",
       "\n",
       "                    Weighted Price  Risk Free Rate Implied Risk Free Rate  \\\n",
       "Date                                                                        \n",
       "2018-01-01 18:20:00       13282.86        0.013525              -0.012719   \n",
       "2018-01-01 18:15:00       13148.47        0.013525              -0.031125   \n",
       "2018-01-01 18:10:00        13116.5        0.013525              -0.026178   \n",
       "2018-01-01 18:05:00       13164.18        0.013525              -0.030125   \n",
       "2018-01-01 18:00:00       13076.27        0.013525              -0.053435   \n",
       "\n",
       "                    Hull Implied Risk Free Rate     ADj_Close  \\\n",
       "Date                                                            \n",
       "2018-01-01 18:20:00                   -0.026018  13360.768625   \n",
       "2018-01-01 18:15:00                   -0.059229  13131.015675   \n",
       "2018-01-01 18:10:00                   -0.050241  13188.348650   \n",
       "2018-01-01 18:05:00                   -0.057409  13183.286025   \n",
       "2018-01-01 18:00:00                   -0.100340  13182.905075   \n",
       "\n",
       "                     ADJ_Implied Risk Free Rate  \\\n",
       "Date                                              \n",
       "2018-01-01 18:20:00                   -0.001366   \n",
       "2018-01-01 18:15:00                   -0.019984   \n",
       "2018-01-01 18:10:00                   -0.014980   \n",
       "2018-01-01 18:05:00                   -0.018973   \n",
       "2018-01-01 18:00:00                   -0.042551   \n",
       "\n",
       "                     ADJ_Hull Implied Risk Free Rate  Filtered Close  \\\n",
       "Date                                                                   \n",
       "2018-01-01 18:20:00                         0.002083    13434.473204   \n",
       "2018-01-01 18:15:00                         0.004850    13427.126659   \n",
       "2018-01-01 18:10:00                         0.004101    13421.473505   \n",
       "2018-01-01 18:05:00                         0.004699    13415.955662   \n",
       "2018-01-01 18:00:00                         0.008276    13410.670154   \n",
       "\n",
       "                     Filtered_Hull Implied Risk Free Rate  \n",
       "Date                                                       \n",
       "2018-01-01 18:20:00                              0.001274  \n",
       "2018-01-01 18:15:00                              0.001571  \n",
       "2018-01-01 18:10:00                              0.001525  \n",
       "2018-01-01 18:05:00                              0.002126  \n",
       "2018-01-01 18:00:00                              0.005757  \n",
       "\n",
       "[5 rows x 24 columns]"
      ]
     },
     "execution_count": 107,
     "metadata": {},
     "output_type": "execute_result"
    }
   ],
   "source": [
    "df3.tail()"
   ]
  },
  {
   "cell_type": "code",
   "execution_count": 8,
   "metadata": {
    "collapsed": true
   },
   "outputs": [],
   "source": [
    "x = df3.index\n",
    "y1 = df3['Close']\n",
    "y2 = df3['FUT Close']"
   ]
  },
  {
   "cell_type": "code",
   "execution_count": 59,
   "metadata": {},
   "outputs": [
    {
     "data": {
      "text/plain": [
       "[<matplotlib.lines.Line2D at 0x118161ed0>]"
      ]
     },
     "execution_count": 59,
     "metadata": {},
     "output_type": "execute_result"
    },
    {
     "data": {
      "image/png": "[encoded data removed]",
      "text/plain": [
       "<matplotlib.figure.Figure at 0x118161590>"
      ]
     },
     "metadata": {},
     "output_type": "display_data"
    }
   ],
   "source": [
    "#BTC is red future is blue\n",
    "plt.plot(y1, label='BTC', c='r')\n",
    "\n",
    "plt.plot(y2)\n",
    "\n"
   ]
  },
  {
   "cell_type": "code",
   "execution_count": 10,
   "metadata": {},
   "outputs": [
    {
     "data": {
      "text/html": [
       "<div>\n",
       "<style>\n",
       "    .dataframe thead tr:only-child th {\n",
       "        text-align: right;\n",
       "    }\n",
       "\n",
       "    .dataframe thead th {\n",
       "        text-align: left;\n",
       "    }\n",
       "\n",
       "    .dataframe tbody tr th {\n",
       "        vertical-align: top;\n",
       "    }\n",
       "</style>\n",
       "<table border=\"1\" class=\"dataframe\">\n",
       "  <thead>\n",
       "    <tr style=\"text-align: right;\">\n",
       "      <th></th>\n",
       "      <th>Last Price</th>\n",
       "    </tr>\n",
       "    <tr>\n",
       "      <th>Date</th>\n",
       "      <th></th>\n",
       "    </tr>\n",
       "  </thead>\n",
       "  <tbody>\n",
       "    <tr>\n",
       "      <th>2018-01-02 13:30:00</th>\n",
       "      <td>1.3825</td>\n",
       "    </tr>\n",
       "    <tr>\n",
       "      <th>2018-01-02 13:25:00</th>\n",
       "      <td>1.3825</td>\n",
       "    </tr>\n",
       "    <tr>\n",
       "      <th>2018-01-02 13:20:00</th>\n",
       "      <td>1.3825</td>\n",
       "    </tr>\n",
       "    <tr>\n",
       "      <th>2018-01-02 13:15:00</th>\n",
       "      <td>1.3825</td>\n",
       "    </tr>\n",
       "    <tr>\n",
       "      <th>2018-01-02 13:10:00</th>\n",
       "      <td>1.3825</td>\n",
       "    </tr>\n",
       "  </tbody>\n",
       "</table>\n",
       "</div>"
      ],
      "text/plain": [
       "                     Last Price\n",
       "Date                           \n",
       "2018-01-02 13:30:00      1.3825\n",
       "2018-01-02 13:25:00      1.3825\n",
       "2018-01-02 13:20:00      1.3825\n",
       "2018-01-02 13:15:00      1.3825\n",
       "2018-01-02 13:10:00      1.3825"
      ]
     },
     "execution_count": 10,
     "metadata": {},
     "output_type": "execute_result"
    }
   ],
   "source": [
    "df4 = pd.DataFrame.from_csv('Risk Free Rate.csv')\n",
    "df4.head()"
   ]
  },
  {
   "cell_type": "code",
   "execution_count": 11,
   "metadata": {
    "collapsed": true
   },
   "outputs": [],
   "source": [
    "df4 = df4.rename(columns={'Last Price':'Risk Free Rate'})"
   ]
  },
  {
   "cell_type": "code",
   "execution_count": null,
   "metadata": {},
   "outputs": [],
   "source": []
  },
  {
   "cell_type": "code",
   "execution_count": null,
   "metadata": {},
   "outputs": [],
   "source": []
  },
  {
   "cell_type": "code",
   "execution_count": 23,
   "metadata": {
    "collapsed": true
   },
   "outputs": [],
   "source": [
    "df3['Risk Free Rate'] = .013525"
   ]
  },
  {
   "cell_type": "code",
   "execution_count": 40,
   "metadata": {
    "collapsed": true
   },
   "outputs": [],
   "source": [
    "df3['ADJ_Implied Risk Free Rate'] = (1+df3['Risk Free Rate'])*(df3['ADj_Close'].astype(float) / df3['FUT Close']) - 1"
   ]
  },
  {
   "cell_type": "code",
   "execution_count": 185,
   "metadata": {
    "collapsed": true
   },
   "outputs": [],
   "source": [
    "df3['ADJ_Hull Implied Risk Free Rate'] = (np.log(df3['FUT Close']/df3['ADj_Close'].astype(float)))/(17.0/(30.0*12))"
   ]
  },
  {
   "cell_type": "code",
   "execution_count": 186,
   "metadata": {},
   "outputs": [
    {
     "data": {
      "text/plain": [
       "count    46.000000\n",
       "mean      0.319616\n",
       "std       0.507845\n",
       "min      -0.534166\n",
       "25%      -0.073839\n",
       "50%       0.428842\n",
       "75%       0.708498\n",
       "max       1.311243\n",
       "Name: ADJ_Hull Implied Risk Free Rate, dtype: float64"
      ]
     },
     "execution_count": 186,
     "metadata": {},
     "output_type": "execute_result"
    }
   ],
   "source": [
    "df3['ADJ_Hull Implied Risk Free Rate'].describe()"
   ]
  },
  {
   "cell_type": "code",
   "execution_count": 25,
   "metadata": {},
   "outputs": [],
   "source": [
    "fees =  1.0025"
   ]
  },
  {
   "cell_type": "code",
   "execution_count": 36,
   "metadata": {},
   "outputs": [],
   "source": [
    "df3['Close'] = df3['Close'].astype(float)"
   ]
  },
  {
   "cell_type": "code",
   "execution_count": 38,
   "metadata": {},
   "outputs": [],
   "source": [
    "df3['ADj_Close'] = df3['Close']*fees"
   ]
  },
  {
   "cell_type": "code",
   "execution_count": 106,
   "metadata": {},
   "outputs": [
    {
     "data": {
      "text/plain": [
       "count    46.000000\n",
       "mean      0.002126\n",
       "std       0.003527\n",
       "min      -0.003803\n",
       "25%      -0.000607\n",
       "50%       0.002884\n",
       "75%       0.004826\n",
       "max       0.009012\n",
       "Name: ADJ_Hull Implied Risk Free Rate, dtype: float64"
      ]
     },
     "execution_count": 106,
     "metadata": {},
     "output_type": "execute_result"
    }
   ],
   "source": [
    "df3['ADJ_Hull Implied Risk Free Rate'].describe()"
   ]
  },
  {
   "cell_type": "code",
   "execution_count": 96,
   "metadata": {},
   "outputs": [
    {
     "data": {
      "text/plain": [
       "count    46.000000\n",
       "mean     -0.001376\n",
       "std       0.023962\n",
       "min      -0.047329\n",
       "25%      -0.019823\n",
       "50%      -0.006793\n",
       "75%       0.017065\n",
       "max       0.039416\n",
       "Name: ADJ_Implied Risk Free Rate, dtype: float64"
      ]
     },
     "execution_count": 96,
     "metadata": {},
     "output_type": "execute_result"
    }
   ],
   "source": [
    "df3['ADJ_Implied Risk Free Rate'].describe()"
   ]
  },
  {
   "cell_type": "code",
   "execution_count": 132,
   "metadata": {
    "collapsed": true
   },
   "outputs": [],
   "source": [
    "n_inter = 46\n",
    "sz = (n_inter,)\n",
    "xhat=np.zeros(sz)      # a posteri estimate of x\n",
    "P=np.zeros(sz)         # a posteri error estimate\n",
    "xhatminus=np.zeros(sz) # a priori estimate of x\n",
    "Pminus=np.zeros(sz)    # a priori error estimate\n",
    "K=np.zeros(sz)         # gain or blending factor\n",
    "R=.5**2\n",
    "xhat[0] = 13400.0\n",
    "P[0] = 1.0\n",
    "Q = 1e-5\n"
   ]
  },
  {
   "cell_type": "code",
   "execution_count": 133,
   "metadata": {},
   "outputs": [],
   "source": [
    "for k in range(1,n_inter):\n",
    "    # time update\n",
    "    xhatminus[k] = xhat[k-1]\n",
    "    Pminus[k] = P[k-1]+Q\n",
    "\n",
    "    # measurement update\n",
    "    K[k] = Pminus[k]/( Pminus[k]+R )\n",
    "    xhat[k] = xhatminus[k]+K[k]*(df3['ADj_Close'][k]-xhatminus[k])\n",
    "    P[k] = (1-K[k])*Pminus[k]"
   ]
  },
  {
   "cell_type": "code",
   "execution_count": 134,
   "metadata": {},
   "outputs": [
    {
     "data": {
      "text/plain": [
       "array([ 13400.        ,  13429.49477899,  13449.78829678,  13473.53016705,\n",
       "        13482.62954589,  13507.83496852,  13520.80377742,  13533.72239945,\n",
       "        13536.76590142,  13540.11602157,  13551.161659  ,  13558.53498819,\n",
       "        13565.93596337,  13574.86763269,  13579.03228296,  13580.23671659,\n",
       "        13584.60917664,  13590.36938178,  13591.76215939,  13592.08821481,\n",
       "        13586.40634621,  13582.25981341,  13577.77548142,  13573.02239991,\n",
       "        13561.86535222,  13552.0618137 ,  13543.06039511,  13534.73200465,\n",
       "        13524.2437897 ,  13514.07246581,  13505.67866867,  13495.51510062,\n",
       "        13486.76663322,  13477.47304021,  13468.14922573,  13461.06544427,\n",
       "        13454.17996194,  13448.1399191 ,  13443.58211556,  13438.81119004,\n",
       "        13436.34524541,  13434.47320438,  13427.12665896,  13421.47350518,\n",
       "        13415.95566247,  13410.67015413])"
      ]
     },
     "execution_count": 134,
     "metadata": {},
     "output_type": "execute_result"
    }
   ],
   "source": [
    "df3['Filtered Close']= xhat"
   ]
  },
  {
   "cell_type": "code",
   "execution_count": 135,
   "metadata": {},
   "outputs": [
    {
     "data": {
      "text/plain": [
       "[<matplotlib.lines.Line2D at 0x1187f0050>]"
      ]
     },
     "execution_count": 135,
     "metadata": {},
     "output_type": "execute_result"
    },
    {
     "data": {
      "image/png": "[encoded data removed]",
      "text/plain": [
       "<matplotlib.figure.Figure at 0x1187b2250>"
      ]
     },
     "metadata": {},
     "output_type": "display_data"
    }
   ],
   "source": [
    "plt.plot(xhat)"
   ]
  },
  {
   "cell_type": "code",
   "execution_count": 112,
   "metadata": {},
   "outputs": [
    {
     "data": {
      "text/html": [
       "<div>\n",
       "<style>\n",
       "    .dataframe thead tr:only-child th {\n",
       "        text-align: right;\n",
       "    }\n",
       "\n",
       "    .dataframe thead th {\n",
       "        text-align: left;\n",
       "    }\n",
       "\n",
       "    .dataframe tbody tr th {\n",
       "        vertical-align: top;\n",
       "    }\n",
       "</style>\n",
       "<table border=\"1\" class=\"dataframe\">\n",
       "  <thead>\n",
       "    <tr style=\"text-align: right;\">\n",
       "      <th></th>\n",
       "      <th>FUT Open</th>\n",
       "      <th>FUT High</th>\n",
       "      <th>FUT Low</th>\n",
       "      <th>FUT Close</th>\n",
       "      <th>SMAVG (5) on Close</th>\n",
       "      <th>SMAVG (10) on Close</th>\n",
       "      <th>SMAVG (15) on Close</th>\n",
       "      <th>Volume</th>\n",
       "      <th>SMAVG (5)</th>\n",
       "      <th>Open</th>\n",
       "      <th>...</th>\n",
       "      <th>Volume (Currency)</th>\n",
       "      <th>Weighted Price</th>\n",
       "      <th>Risk Free Rate</th>\n",
       "      <th>Implied Risk Free Rate</th>\n",
       "      <th>Hull Implied Risk Free Rate</th>\n",
       "      <th>ADj_Close</th>\n",
       "      <th>ADJ_Implied Risk Free Rate</th>\n",
       "      <th>ADJ_Hull Implied Risk Free Rate</th>\n",
       "      <th>Filtered Close</th>\n",
       "      <th>Filtered_Hull Implied Risk Free Rate</th>\n",
       "    </tr>\n",
       "    <tr>\n",
       "      <th>Date</th>\n",
       "      <th></th>\n",
       "      <th></th>\n",
       "      <th></th>\n",
       "      <th></th>\n",
       "      <th></th>\n",
       "      <th></th>\n",
       "      <th></th>\n",
       "      <th></th>\n",
       "      <th></th>\n",
       "      <th></th>\n",
       "      <th></th>\n",
       "      <th></th>\n",
       "      <th></th>\n",
       "      <th></th>\n",
       "      <th></th>\n",
       "      <th></th>\n",
       "      <th></th>\n",
       "      <th></th>\n",
       "      <th></th>\n",
       "      <th></th>\n",
       "      <th></th>\n",
       "    </tr>\n",
       "  </thead>\n",
       "  <tbody>\n",
       "    <tr>\n",
       "      <th>2018-01-01 23:45:00</th>\n",
       "      <td>13145</td>\n",
       "      <td>13145</td>\n",
       "      <td>13145</td>\n",
       "      <td>13145</td>\n",
       "      <td>13220</td>\n",
       "      <td>13367</td>\n",
       "      <td>13403</td>\n",
       "      <td>1</td>\n",
       "      <td>6</td>\n",
       "      <td>13431.03</td>\n",
       "      <td>...</td>\n",
       "      <td>151171.61</td>\n",
       "      <td>13413.61</td>\n",
       "      <td>0.013525</td>\n",
       "      <td>0.025476</td>\n",
       "      <td>0.040964</td>\n",
       "      <td>13452.928450</td>\n",
       "      <td>0.037267</td>\n",
       "      <td>-0.003499</td>\n",
       "      <td>13400.000000</td>\n",
       "      <td>-0.002825</td>\n",
       "    </tr>\n",
       "    <tr>\n",
       "      <th>2018-01-01 23:35:00</th>\n",
       "      <td>13155</td>\n",
       "      <td>13155</td>\n",
       "      <td>13150</td>\n",
       "      <td>13150</td>\n",
       "      <td>13306</td>\n",
       "      <td>13396</td>\n",
       "      <td>13431</td>\n",
       "      <td>4</td>\n",
       "      <td>6</td>\n",
       "      <td>13424.29</td>\n",
       "      <td>...</td>\n",
       "      <td>205954.16</td>\n",
       "      <td>13423.93</td>\n",
       "      <td>0.013525</td>\n",
       "      <td>0.023862</td>\n",
       "      <td>0.038185</td>\n",
       "      <td>13436.868400</td>\n",
       "      <td>0.035635</td>\n",
       "      <td>-0.003268</td>\n",
       "      <td>13429.494779</td>\n",
       "      <td>-0.003093</td>\n",
       "    </tr>\n",
       "    <tr>\n",
       "      <th>2018-01-01 23:30:00</th>\n",
       "      <td>13080</td>\n",
       "      <td>13145</td>\n",
       "      <td>13080</td>\n",
       "      <td>13145</td>\n",
       "      <td>13381</td>\n",
       "      <td>13421</td>\n",
       "      <td>13463</td>\n",
       "      <td>5</td>\n",
       "      <td>6</td>\n",
       "      <td>13500</td>\n",
       "      <td>...</td>\n",
       "      <td>380223.05</td>\n",
       "      <td>13480.12</td>\n",
       "      <td>0.013525</td>\n",
       "      <td>0.027170</td>\n",
       "      <td>0.043878</td>\n",
       "      <td>13475.153875</td>\n",
       "      <td>0.038981</td>\n",
       "      <td>-0.003742</td>\n",
       "      <td>13449.788297</td>\n",
       "      <td>-0.003371</td>\n",
       "    </tr>\n",
       "    <tr>\n",
       "      <th>2018-01-01 23:25:00</th>\n",
       "      <td>13515</td>\n",
       "      <td>13515</td>\n",
       "      <td>13190</td>\n",
       "      <td>13190</td>\n",
       "      <td>13447</td>\n",
       "      <td>13452</td>\n",
       "      <td>13505</td>\n",
       "      <td>19</td>\n",
       "      <td>5</td>\n",
       "      <td>13441.45</td>\n",
       "      <td>...</td>\n",
       "      <td>207672.25</td>\n",
       "      <td>13453.52</td>\n",
       "      <td>0.013525</td>\n",
       "      <td>0.027600</td>\n",
       "      <td>0.044616</td>\n",
       "      <td>13526.943025</td>\n",
       "      <td>0.039416</td>\n",
       "      <td>-0.003803</td>\n",
       "      <td>13473.530167</td>\n",
       "      <td>-0.003128</td>\n",
       "    </tr>\n",
       "    <tr>\n",
       "      <th>2018-01-01 22:55:00</th>\n",
       "      <td>13470</td>\n",
       "      <td>13470</td>\n",
       "      <td>13470</td>\n",
       "      <td>13470</td>\n",
       "      <td>13511</td>\n",
       "      <td>13478</td>\n",
       "      <td>13541</td>\n",
       "      <td>1</td>\n",
       "      <td>2</td>\n",
       "      <td>13548.54</td>\n",
       "      <td>...</td>\n",
       "      <td>360245.35</td>\n",
       "      <td>13533.2</td>\n",
       "      <td>0.013525</td>\n",
       "      <td>0.005142</td>\n",
       "      <td>0.005622</td>\n",
       "      <td>13512.196250</td>\n",
       "      <td>0.016700</td>\n",
       "      <td>-0.000554</td>\n",
       "      <td>13482.629546</td>\n",
       "      <td>-0.000138</td>\n",
       "    </tr>\n",
       "  </tbody>\n",
       "</table>\n",
       "<p>5 rows × 24 columns</p>\n",
       "</div>"
      ],
      "text/plain": [
       "                     FUT Open  FUT High  FUT Low  FUT Close  \\\n",
       "Date                                                          \n",
       "2018-01-01 23:45:00     13145     13145    13145      13145   \n",
       "2018-01-01 23:35:00     13155     13155    13150      13150   \n",
       "2018-01-01 23:30:00     13080     13145    13080      13145   \n",
       "2018-01-01 23:25:00     13515     13515    13190      13190   \n",
       "2018-01-01 22:55:00     13470     13470    13470      13470   \n",
       "\n",
       "                    SMAVG (5) on Close  SMAVG (10) on Close  \\\n",
       "Date                                                          \n",
       "2018-01-01 23:45:00              13220                13367   \n",
       "2018-01-01 23:35:00              13306                13396   \n",
       "2018-01-01 23:30:00              13381                13421   \n",
       "2018-01-01 23:25:00              13447                13452   \n",
       "2018-01-01 22:55:00              13511                13478   \n",
       "\n",
       "                    SMAVG (15) on Close  Volume  SMAVG (5)      Open  \\\n",
       "Date                                                                   \n",
       "2018-01-01 23:45:00               13403       1          6  13431.03   \n",
       "2018-01-01 23:35:00               13431       4          6  13424.29   \n",
       "2018-01-01 23:30:00               13463       5          6     13500   \n",
       "2018-01-01 23:25:00               13505      19          5  13441.45   \n",
       "2018-01-01 22:55:00               13541       1          2  13548.54   \n",
       "\n",
       "                                     ...                  Volume (Currency)  \\\n",
       "Date                                 ...                                      \n",
       "2018-01-01 23:45:00                  ...                          151171.61   \n",
       "2018-01-01 23:35:00                  ...                          205954.16   \n",
       "2018-01-01 23:30:00                  ...                          380223.05   \n",
       "2018-01-01 23:25:00                  ...                          207672.25   \n",
       "2018-01-01 22:55:00                  ...                          360245.35   \n",
       "\n",
       "                    Weighted Price  Risk Free Rate Implied Risk Free Rate  \\\n",
       "Date                                                                        \n",
       "2018-01-01 23:45:00       13413.61        0.013525               0.025476   \n",
       "2018-01-01 23:35:00       13423.93        0.013525               0.023862   \n",
       "2018-01-01 23:30:00       13480.12        0.013525               0.027170   \n",
       "2018-01-01 23:25:00       13453.52        0.013525               0.027600   \n",
       "2018-01-01 22:55:00        13533.2        0.013525               0.005142   \n",
       "\n",
       "                    Hull Implied Risk Free Rate     ADj_Close  \\\n",
       "Date                                                            \n",
       "2018-01-01 23:45:00                    0.040964  13452.928450   \n",
       "2018-01-01 23:35:00                    0.038185  13436.868400   \n",
       "2018-01-01 23:30:00                    0.043878  13475.153875   \n",
       "2018-01-01 23:25:00                    0.044616  13526.943025   \n",
       "2018-01-01 22:55:00                    0.005622  13512.196250   \n",
       "\n",
       "                     ADJ_Implied Risk Free Rate  \\\n",
       "Date                                              \n",
       "2018-01-01 23:45:00                    0.037267   \n",
       "2018-01-01 23:35:00                    0.035635   \n",
       "2018-01-01 23:30:00                    0.038981   \n",
       "2018-01-01 23:25:00                    0.039416   \n",
       "2018-01-01 22:55:00                    0.016700   \n",
       "\n",
       "                     ADJ_Hull Implied Risk Free Rate  Filtered Close  \\\n",
       "Date                                                                   \n",
       "2018-01-01 23:45:00                        -0.003499    13400.000000   \n",
       "2018-01-01 23:35:00                        -0.003268    13429.494779   \n",
       "2018-01-01 23:30:00                        -0.003742    13449.788297   \n",
       "2018-01-01 23:25:00                        -0.003803    13473.530167   \n",
       "2018-01-01 22:55:00                        -0.000554    13482.629546   \n",
       "\n",
       "                     Filtered_Hull Implied Risk Free Rate  \n",
       "Date                                                       \n",
       "2018-01-01 23:45:00                             -0.002825  \n",
       "2018-01-01 23:35:00                             -0.003093  \n",
       "2018-01-01 23:30:00                             -0.003371  \n",
       "2018-01-01 23:25:00                             -0.003128  \n",
       "2018-01-01 22:55:00                             -0.000138  \n",
       "\n",
       "[5 rows x 24 columns]"
      ]
     },
     "execution_count": 112,
     "metadata": {},
     "output_type": "execute_result"
    }
   ],
   "source": [
    "df3.head()"
   ]
  },
  {
   "cell_type": "code",
   "execution_count": 178,
   "metadata": {},
   "outputs": [],
   "source": [
    "#solving for r using F(0) = S(0)e^(rt) and a kalman filtered underlying\n",
    "df3['Filtered_Hull Implied Risk Free Rate'] = (360.0)*(np.log(df3['FUT Close']/df3['Filtered Close'].astype(float)))/17.0"
   ]
  },
  {
   "cell_type": "code",
   "execution_count": 179,
   "metadata": {
    "scrolled": true
   },
   "outputs": [
    {
     "data": {
      "text/plain": [
       "count    46.000000\n",
       "mean      0.167460\n",
       "std       0.324791\n",
       "min      -0.485405\n",
       "25%      -0.022791\n",
       "50%       0.184505\n",
       "75%       0.314641\n",
       "max       0.861218\n",
       "Name: Filtered_Hull Implied Risk Free Rate, dtype: float64"
      ]
     },
     "execution_count": 179,
     "metadata": {},
     "output_type": "execute_result"
    }
   ],
   "source": [
    "#Mean is the average implied risk free rate when looking using a price of BTC that has been filtered to reduce noise\n",
    "df3['Filtered_Hull Implied Risk Free Rate'].describe()"
   ]
  },
  {
   "cell_type": "code",
   "execution_count": 151,
   "metadata": {},
   "outputs": [
    {
     "data": {
      "text/plain": [
       "0.0131525"
      ]
     },
     "execution_count": 151,
     "metadata": {},
     "output_type": "execute_result"
    }
   ],
   "source": [
    "#this is a conservative estimate of the risk free rate using 3 month bill\n",
    ".0131525"
   ]
  },
  {
   "cell_type": "code",
   "execution_count": 156,
   "metadata": {},
   "outputs": [
    {
     "data": {
      "text/plain": [
       "0.0242"
      ]
     },
     "execution_count": 156,
     "metadata": {},
     "output_type": "execute_result"
    }
   ],
   "source": [
    "#Estimate using 10 year T-bill\n",
    ".0242"
   ]
  },
  {
   "cell_type": "code",
   "execution_count": 191,
   "metadata": {},
   "outputs": [],
   "source": [
    "df3['Theoretical Price'] = df3['Filtered Close']*np.exp(.013125*17/30)"
   ]
  },
  {
   "cell_type": "code",
   "execution_count": 193,
   "metadata": {},
   "outputs": [
    {
     "data": {
      "text/plain": [
       "count     46.000000\n",
       "mean      -8.103969\n",
       "std      208.713730\n",
       "min     -460.041917\n",
       "25%     -100.960400\n",
       "50%      -17.396576\n",
       "75%      115.782307\n",
       "max      405.194018\n",
       "dtype: float64"
      ]
     },
     "execution_count": 193,
     "metadata": {},
     "output_type": "execute_result"
    }
   ],
   "source": [
    "(df3['Theoretical Price']-df3['FUT Close']).describe()"
   ]
  },
  {
   "cell_type": "code",
   "execution_count": 189,
   "metadata": {},
   "outputs": [
    {
     "data": {
      "text/plain": [
       "0.071029908279885645"
      ]
     },
     "execution_count": 189,
     "metadata": {},
     "output_type": "execute_result"
    }
   ],
   "source": [
    "#Null is that Mean = 0 at .05 signifigance not able to reject Null P-Value is .9442\n",
    "100.576982/208.774970/np.sqrt(46)"
   ]
  },
  {
   "cell_type": "code",
   "execution_count": 242,
   "metadata": {},
   "outputs": [
    {
     "data": {
      "text/plain": [
       "0.070049353736315934"
      ]
     },
     "execution_count": 242,
     "metadata": {},
     "output_type": "execute_result"
    }
   ],
   "source": [
    "(0.167460-.0131525)/0.324791/np.sqrt(46)"
   ]
  },
  {
   "cell_type": "code",
   "execution_count": 307,
   "metadata": {
    "collapsed": true
   },
   "outputs": [],
   "source": [
    "k = np.cumprod(1+np.random.randn(1000000,28)*2.52/np.sqrt(28),1)*16518.75221"
   ]
  },
  {
   "cell_type": "code",
   "execution_count": 308,
   "metadata": {},
   "outputs": [
    {
     "data": {
      "text/plain": [
       "16626.796486381376"
      ]
     },
     "execution_count": 308,
     "metadata": {},
     "output_type": "execute_result"
    }
   ],
   "source": [
    "k.mean()"
   ]
  },
  {
   "cell_type": "code",
   "execution_count": null,
   "metadata": {
    "collapsed": true
   },
   "outputs": [],
   "source": []
  },
  {
   "cell_type": "code",
   "execution_count": null,
   "metadata": {
    "collapsed": true
   },
   "outputs": [],
   "source": []
  }
 ],
 "metadata": {
  "kernelspec": {
   "display_name": "Python 2",
   "language": "python",
   "name": "python2"
  },
  "language_info": {
   "codemirror_mode": {
    "name": "ipython",
    "version": 2
   },
   "file_extension": ".py",
   "mimetype": "text/x-python",
   "name": "python",
   "nbconvert_exporter": "python",
   "pygments_lexer": "ipython2",
   "version": "2.7.13"
  }
 },
 "nbformat": 4,
 "nbformat_minor": 2
}
